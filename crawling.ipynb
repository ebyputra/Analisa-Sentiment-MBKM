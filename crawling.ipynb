{
 "cells": [
  {
   "cell_type": "markdown",
   "id": "2aaedd49-bb78-421f-b9d2-ef1f723d6124",
   "metadata": {},
   "source": [
    "# Import Library"
   ]
  },
  {
   "cell_type": "code",
   "execution_count": 16,
   "id": "886d7d9b-ebc9-4574-8a04-09058cd517d4",
   "metadata": {},
   "outputs": [],
   "source": [
    "import pandas as pd\n",
    "from instagrapi import Client"
   ]
  },
  {
   "cell_type": "markdown",
   "id": "b94eb569-e7ff-42a3-a9b1-6335b8cf633a",
   "metadata": {},
   "source": [
    "# Login Instagram"
   ]
  },
  {
   "cell_type": "code",
   "execution_count": 17,
   "id": "e017dd31-499c-403e-a314-cd9d2206b7a8",
   "metadata": {},
   "outputs": [
    {
     "ename": "BadPassword",
     "evalue": "The password you entered is incorrect. Please try again. If you are sure that the password is correct, then change your IP address, because it is added to the blacklist of the Instagram Server",
     "output_type": "error",
     "traceback": [
      "\u001b[1;31m---------------------------------------------------------------------------\u001b[0m",
      "\u001b[1;31mHTTPError\u001b[0m                                 Traceback (most recent call last)",
      "File \u001b[1;32m~\\AppData\\Local\\Programs\\Python\\Python310\\lib\\site-packages\\instagrapi\\mixins\\private.py:360\u001b[0m, in \u001b[0;36mPrivateRequestMixin._send_private_request\u001b[1;34m(self, endpoint, data, params, login, with_signature, headers, extra_sig, domain)\u001b[0m\n\u001b[0;32m    359\u001b[0m \u001b[38;5;28mself\u001b[39m\u001b[38;5;241m.\u001b[39mlast_response \u001b[38;5;241m=\u001b[39m response\n\u001b[1;32m--> 360\u001b[0m \u001b[43mresponse\u001b[49m\u001b[38;5;241;43m.\u001b[39;49m\u001b[43mraise_for_status\u001b[49m\u001b[43m(\u001b[49m\u001b[43m)\u001b[49m\n\u001b[0;32m    361\u001b[0m \u001b[38;5;66;03m# last_json - for Sentry context in traceback\u001b[39;00m\n",
      "File \u001b[1;32m~\\AppData\\Local\\Programs\\Python\\Python310\\lib\\site-packages\\requests\\models.py:960\u001b[0m, in \u001b[0;36mResponse.raise_for_status\u001b[1;34m(self)\u001b[0m\n\u001b[0;32m    959\u001b[0m \u001b[38;5;28;01mif\u001b[39;00m http_error_msg:\n\u001b[1;32m--> 960\u001b[0m     \u001b[38;5;28;01mraise\u001b[39;00m HTTPError(http_error_msg, response\u001b[38;5;241m=\u001b[39m\u001b[38;5;28mself\u001b[39m)\n",
      "\u001b[1;31mHTTPError\u001b[0m: 400 Client Error: Bad Request for url: https://i.instagram.com/api/v1/accounts/login/",
      "\nDuring handling of the above exception, another exception occurred:\n",
      "\u001b[1;31mBadPassword\u001b[0m                               Traceback (most recent call last)",
      "Input \u001b[1;32mIn [17]\u001b[0m, in \u001b[0;36m<cell line: 4>\u001b[1;34m()\u001b[0m\n\u001b[0;32m      2\u001b[0m username \u001b[38;5;241m=\u001b[39m \u001b[38;5;124m\"\u001b[39m\u001b[38;5;124mebyputraaa\u001b[39m\u001b[38;5;124m\"\u001b[39m\n\u001b[0;32m      3\u001b[0m password \u001b[38;5;241m=\u001b[39m \u001b[38;5;124m\"\u001b[39m\u001b[38;5;124meby21062001\u001b[39m\u001b[38;5;124m\"\u001b[39m\n\u001b[1;32m----> 4\u001b[0m \u001b[43mcl\u001b[49m\u001b[38;5;241;43m.\u001b[39;49m\u001b[43mlogin\u001b[49m\u001b[43m(\u001b[49m\u001b[43musername\u001b[49m\u001b[43m,\u001b[49m\u001b[43mpassword\u001b[49m\u001b[43m)\u001b[49m\n",
      "File \u001b[1;32m~\\AppData\\Local\\Programs\\Python\\Python310\\lib\\site-packages\\instagrapi\\mixins\\auth.py:441\u001b[0m, in \u001b[0;36mLoginMixin.login\u001b[1;34m(self, username, password, relogin, verification_code)\u001b[0m\n\u001b[0;32m    427\u001b[0m data \u001b[38;5;241m=\u001b[39m {\n\u001b[0;32m    428\u001b[0m     \u001b[38;5;124m\"\u001b[39m\u001b[38;5;124mjazoest\u001b[39m\u001b[38;5;124m\"\u001b[39m: generate_jazoest(\u001b[38;5;28mself\u001b[39m\u001b[38;5;241m.\u001b[39mphone_id),\n\u001b[0;32m    429\u001b[0m     \u001b[38;5;124m\"\u001b[39m\u001b[38;5;124mcountry_codes\u001b[39m\u001b[38;5;124m\"\u001b[39m: \u001b[38;5;124m'\u001b[39m\u001b[38;5;124m[\u001b[39m\u001b[38;5;124m{\u001b[39m\u001b[38;5;124m\"\u001b[39m\u001b[38;5;124mcountry_code\u001b[39m\u001b[38;5;124m\"\u001b[39m\u001b[38;5;124m:\u001b[39m\u001b[38;5;124m\"\u001b[39m\u001b[38;5;132;01m%d\u001b[39;00m\u001b[38;5;124m\"\u001b[39m\u001b[38;5;124m,\u001b[39m\u001b[38;5;124m\"\u001b[39m\u001b[38;5;124msource\u001b[39m\u001b[38;5;124m\"\u001b[39m\u001b[38;5;124m:[\u001b[39m\u001b[38;5;124m\"\u001b[39m\u001b[38;5;124mdefault\u001b[39m\u001b[38;5;124m\"\u001b[39m\u001b[38;5;124m]}]\u001b[39m\u001b[38;5;124m'\u001b[39m\n\u001b[1;32m   (...)\u001b[0m\n\u001b[0;32m    438\u001b[0m     \u001b[38;5;124m\"\u001b[39m\u001b[38;5;124mlogin_attempt_count\u001b[39m\u001b[38;5;124m\"\u001b[39m: \u001b[38;5;124m\"\u001b[39m\u001b[38;5;124m0\u001b[39m\u001b[38;5;124m\"\u001b[39m,\n\u001b[0;32m    439\u001b[0m }\n\u001b[0;32m    440\u001b[0m \u001b[38;5;28;01mtry\u001b[39;00m:\n\u001b[1;32m--> 441\u001b[0m     logged \u001b[38;5;241m=\u001b[39m \u001b[38;5;28;43mself\u001b[39;49m\u001b[38;5;241;43m.\u001b[39;49m\u001b[43mprivate_request\u001b[49m\u001b[43m(\u001b[49m\u001b[38;5;124;43m\"\u001b[39;49m\u001b[38;5;124;43maccounts/login/\u001b[39;49m\u001b[38;5;124;43m\"\u001b[39;49m\u001b[43m,\u001b[49m\u001b[43m \u001b[49m\u001b[43mdata\u001b[49m\u001b[43m,\u001b[49m\u001b[43m \u001b[49m\u001b[43mlogin\u001b[49m\u001b[38;5;241;43m=\u001b[39;49m\u001b[38;5;28;43;01mTrue\u001b[39;49;00m\u001b[43m)\u001b[49m\n\u001b[0;32m    442\u001b[0m     \u001b[38;5;28mself\u001b[39m\u001b[38;5;241m.\u001b[39mauthorization_data \u001b[38;5;241m=\u001b[39m \u001b[38;5;28mself\u001b[39m\u001b[38;5;241m.\u001b[39mparse_authorization(\n\u001b[0;32m    443\u001b[0m         \u001b[38;5;28mself\u001b[39m\u001b[38;5;241m.\u001b[39mlast_response\u001b[38;5;241m.\u001b[39mheaders\u001b[38;5;241m.\u001b[39mget(\u001b[38;5;124m\"\u001b[39m\u001b[38;5;124mig-set-authorization\u001b[39m\u001b[38;5;124m\"\u001b[39m)\n\u001b[0;32m    444\u001b[0m     )\n\u001b[0;32m    445\u001b[0m \u001b[38;5;28;01mexcept\u001b[39;00m TwoFactorRequired \u001b[38;5;28;01mas\u001b[39;00m e:\n",
      "File \u001b[1;32m~\\AppData\\Local\\Programs\\Python\\Python310\\lib\\site-packages\\instagrapi\\mixins\\private.py:542\u001b[0m, in \u001b[0;36mPrivateRequestMixin.private_request\u001b[1;34m(self, endpoint, data, params, login, with_signature, headers, extra_sig, domain)\u001b[0m\n\u001b[0;32m    540\u001b[0m     \u001b[38;5;28mself\u001b[39m\u001b[38;5;241m.\u001b[39mchallenge_resolve(\u001b[38;5;28mself\u001b[39m\u001b[38;5;241m.\u001b[39mlast_json)\n\u001b[0;32m    541\u001b[0m \u001b[38;5;28;01melse\u001b[39;00m:\n\u001b[1;32m--> 542\u001b[0m     \u001b[38;5;28;01mraise\u001b[39;00m e\n\u001b[0;32m    543\u001b[0m \u001b[38;5;28;01mif\u001b[39;00m login \u001b[38;5;129;01mand\u001b[39;00m \u001b[38;5;28mself\u001b[39m\u001b[38;5;241m.\u001b[39muser_id:\n\u001b[0;32m    544\u001b[0m     \u001b[38;5;66;03m# After challenge resolve return last_json\u001b[39;00m\n\u001b[0;32m    545\u001b[0m     \u001b[38;5;28;01mreturn\u001b[39;00m \u001b[38;5;28mself\u001b[39m\u001b[38;5;241m.\u001b[39mlast_json\n",
      "File \u001b[1;32m~\\AppData\\Local\\Programs\\Python\\Python310\\lib\\site-packages\\instagrapi\\mixins\\private.py:527\u001b[0m, in \u001b[0;36mPrivateRequestMixin.private_request\u001b[1;34m(self, endpoint, data, params, login, with_signature, headers, extra_sig, domain)\u001b[0m\n\u001b[0;32m    525\u001b[0m         random_delay(delay_range\u001b[38;5;241m=\u001b[39m\u001b[38;5;28mself\u001b[39m\u001b[38;5;241m.\u001b[39mdelay_range)\n\u001b[0;32m    526\u001b[0m     \u001b[38;5;28mself\u001b[39m\u001b[38;5;241m.\u001b[39mprivate_requests_count \u001b[38;5;241m+\u001b[39m\u001b[38;5;241m=\u001b[39m \u001b[38;5;241m1\u001b[39m\n\u001b[1;32m--> 527\u001b[0m     \u001b[38;5;28mself\u001b[39m\u001b[38;5;241m.\u001b[39m_send_private_request(endpoint, \u001b[38;5;241m*\u001b[39m\u001b[38;5;241m*\u001b[39mkwargs)\n\u001b[0;32m    528\u001b[0m \u001b[38;5;28;01mexcept\u001b[39;00m ClientRequestTimeout:\n\u001b[0;32m    529\u001b[0m     \u001b[38;5;28mself\u001b[39m\u001b[38;5;241m.\u001b[39mlogger\u001b[38;5;241m.\u001b[39minfo(\n\u001b[0;32m    530\u001b[0m         \u001b[38;5;124m\"\u001b[39m\u001b[38;5;124mWait 60 seconds and try one more time (ClientRequestTimeout)\u001b[39m\u001b[38;5;124m\"\u001b[39m\n\u001b[0;32m    531\u001b[0m     )\n",
      "File \u001b[1;32m~\\AppData\\Local\\Programs\\Python\\Python310\\lib\\site-packages\\instagrapi\\mixins\\private.py:416\u001b[0m, in \u001b[0;36mPrivateRequestMixin._send_private_request\u001b[1;34m(self, endpoint, data, params, login, with_signature, headers, extra_sig, domain)\u001b[0m\n\u001b[0;32m    411\u001b[0m         msg \u001b[38;5;241m=\u001b[39m \u001b[38;5;124m\"\u001b[39m\u001b[38;5;132;01m%s\u001b[39;00m\u001b[38;5;124m \u001b[39m\u001b[38;5;124m\"\u001b[39m \u001b[38;5;241m%\u001b[39m msg\n\u001b[0;32m    412\u001b[0m     last_json[\u001b[38;5;124m\"\u001b[39m\u001b[38;5;124mmessage\u001b[39m\u001b[38;5;124m\"\u001b[39m] \u001b[38;5;241m=\u001b[39m (\n\u001b[0;32m    413\u001b[0m         \u001b[38;5;124m\"\u001b[39m\u001b[38;5;132;01m%s\u001b[39;00m\u001b[38;5;124mIf you are sure that the password is correct, then change your IP address, \u001b[39m\u001b[38;5;124m\"\u001b[39m\n\u001b[0;32m    414\u001b[0m         \u001b[38;5;124m\"\u001b[39m\u001b[38;5;124mbecause it is added to the blacklist of the Instagram Server\u001b[39m\u001b[38;5;124m\"\u001b[39m\n\u001b[0;32m    415\u001b[0m     ) \u001b[38;5;241m%\u001b[39m msg\n\u001b[1;32m--> 416\u001b[0m     \u001b[38;5;28;01mraise\u001b[39;00m BadPassword(\u001b[38;5;241m*\u001b[39m\u001b[38;5;241m*\u001b[39mlast_json)\n\u001b[0;32m    417\u001b[0m \u001b[38;5;28;01melif\u001b[39;00m error_type \u001b[38;5;241m==\u001b[39m \u001b[38;5;124m\"\u001b[39m\u001b[38;5;124mtwo_factor_required\u001b[39m\u001b[38;5;124m\"\u001b[39m:\n\u001b[0;32m    418\u001b[0m     \u001b[38;5;28;01mif\u001b[39;00m \u001b[38;5;129;01mnot\u001b[39;00m last_json[\u001b[38;5;124m\"\u001b[39m\u001b[38;5;124mmessage\u001b[39m\u001b[38;5;124m\"\u001b[39m]:\n",
      "\u001b[1;31mBadPassword\u001b[0m: The password you entered is incorrect. Please try again. If you are sure that the password is correct, then change your IP address, because it is added to the blacklist of the Instagram Server"
     ]
    }
   ],
   "source": [
    "cl = Client()\n",
    "username = \"ebyputraaa\"\n",
    "password = \"eby21062001\"\n",
    "cl.login(username,password)"
   ]
  },
  {
   "cell_type": "markdown",
   "id": "0abd5585-764c-42e7-8b18-df49da239811",
   "metadata": {},
   "source": [
    "# Get postingan"
   ]
  },
  {
   "cell_type": "code",
   "execution_count": null,
   "id": "faaf327e-5dd8-4b37-b99f-0e57fde133fa",
   "metadata": {},
   "outputs": [],
   "source": [
    "media = cl.media_pk_from_url('https://www.instagram.com/p/CuyaFO6O_49/')"
   ]
  },
  {
   "cell_type": "markdown",
   "id": "fac6c807-ff54-4219-ad13-62cf4720d00b",
   "metadata": {},
   "source": [
    "# Mengambil Komentar yang didalam Postingan"
   ]
  },
  {
   "cell_type": "markdown",
   "id": "733dc97a-8bba-49d7-bb80-98d4876454dd",
   "metadata": {},
   "source": [
    "komentar yang bisa diambil di limit sekitar 100 per postingan"
   ]
  },
  {
   "cell_type": "code",
   "execution_count": 15,
   "id": "3cdf16c4-40f7-403a-9acd-808e071882eb",
   "metadata": {},
   "outputs": [
    {
     "ename": "PleaseWaitFewMinutes",
     "evalue": "Please wait a few minutes before you try again.",
     "output_type": "error",
     "traceback": [
      "\u001b[1;31m---------------------------------------------------------------------------\u001b[0m",
      "\u001b[1;31mHTTPError\u001b[0m                                 Traceback (most recent call last)",
      "File \u001b[1;32m~\\AppData\\Local\\Programs\\Python\\Python310\\lib\\site-packages\\instagrapi\\mixins\\private.py:360\u001b[0m, in \u001b[0;36mPrivateRequestMixin._send_private_request\u001b[1;34m(self, endpoint, data, params, login, with_signature, headers, extra_sig, domain)\u001b[0m\n\u001b[0;32m    359\u001b[0m \u001b[38;5;28mself\u001b[39m\u001b[38;5;241m.\u001b[39mlast_response \u001b[38;5;241m=\u001b[39m response\n\u001b[1;32m--> 360\u001b[0m \u001b[43mresponse\u001b[49m\u001b[38;5;241;43m.\u001b[39;49m\u001b[43mraise_for_status\u001b[49m\u001b[43m(\u001b[49m\u001b[43m)\u001b[49m\n\u001b[0;32m    361\u001b[0m \u001b[38;5;66;03m# last_json - for Sentry context in traceback\u001b[39;00m\n",
      "File \u001b[1;32m~\\AppData\\Local\\Programs\\Python\\Python310\\lib\\site-packages\\requests\\models.py:960\u001b[0m, in \u001b[0;36mResponse.raise_for_status\u001b[1;34m(self)\u001b[0m\n\u001b[0;32m    959\u001b[0m \u001b[38;5;28;01mif\u001b[39;00m http_error_msg:\n\u001b[1;32m--> 960\u001b[0m     \u001b[38;5;28;01mraise\u001b[39;00m HTTPError(http_error_msg, response\u001b[38;5;241m=\u001b[39m\u001b[38;5;28mself\u001b[39m)\n",
      "\u001b[1;31mHTTPError\u001b[0m: 401 Client Error: Unauthorized for url: https://i.instagram.com/api/v1/media/3148693798301466173_9603752143/comments/",
      "\nDuring handling of the above exception, another exception occurred:\n",
      "\u001b[1;31mPleaseWaitFewMinutes\u001b[0m                      Traceback (most recent call last)",
      "Input \u001b[1;32mIn [15]\u001b[0m, in \u001b[0;36m<cell line: 1>\u001b[1;34m()\u001b[0m\n\u001b[1;32m----> 1\u001b[0m com \u001b[38;5;241m=\u001b[39m \u001b[43mcl\u001b[49m\u001b[38;5;241;43m.\u001b[39;49m\u001b[43mmedia_comments\u001b[49m\u001b[43m(\u001b[49m\u001b[43mmedia\u001b[49m\u001b[43m,\u001b[49m\u001b[43mamount\u001b[49m\u001b[38;5;241;43m=\u001b[39;49m\u001b[38;5;241;43m0\u001b[39;49m\u001b[43m)\u001b[49m\n",
      "File \u001b[1;32m~\\AppData\\Local\\Programs\\Python\\Python310\\lib\\site-packages\\instagrapi\\mixins\\comment.py:40\u001b[0m, in \u001b[0;36mCommentMixin.media_comments\u001b[1;34m(self, media_id, amount)\u001b[0m\n\u001b[0;32m     38\u001b[0m params \u001b[38;5;241m=\u001b[39m \u001b[38;5;28;01mNone\u001b[39;00m\n\u001b[0;32m     39\u001b[0m comments \u001b[38;5;241m=\u001b[39m []\n\u001b[1;32m---> 40\u001b[0m result \u001b[38;5;241m=\u001b[39m \u001b[38;5;28;43mself\u001b[39;49m\u001b[38;5;241;43m.\u001b[39;49m\u001b[43mprivate_request\u001b[49m\u001b[43m(\u001b[49m\u001b[38;5;124;43mf\u001b[39;49m\u001b[38;5;124;43m\"\u001b[39;49m\u001b[38;5;124;43mmedia/\u001b[39;49m\u001b[38;5;132;43;01m{\u001b[39;49;00m\u001b[43mmedia_id\u001b[49m\u001b[38;5;132;43;01m}\u001b[39;49;00m\u001b[38;5;124;43m/comments/\u001b[39;49m\u001b[38;5;124;43m\"\u001b[39;49m\u001b[43m,\u001b[49m\u001b[43m \u001b[49m\u001b[43mparams\u001b[49m\u001b[43m)\u001b[49m\n\u001b[0;32m     41\u001b[0m get_comments()\n\u001b[0;32m     42\u001b[0m \u001b[38;5;28;01mwhile\u001b[39;00m (result\u001b[38;5;241m.\u001b[39mget(\u001b[38;5;124m\"\u001b[39m\u001b[38;5;124mhas_more_comments\u001b[39m\u001b[38;5;124m\"\u001b[39m) \u001b[38;5;129;01mand\u001b[39;00m result\u001b[38;5;241m.\u001b[39mget(\u001b[38;5;124m\"\u001b[39m\u001b[38;5;124mnext_max_id\u001b[39m\u001b[38;5;124m\"\u001b[39m)) \u001b[38;5;129;01mor\u001b[39;00m (\n\u001b[0;32m     43\u001b[0m     result\u001b[38;5;241m.\u001b[39mget(\u001b[38;5;124m\"\u001b[39m\u001b[38;5;124mhas_more_headload_comments\u001b[39m\u001b[38;5;124m\"\u001b[39m) \u001b[38;5;129;01mand\u001b[39;00m result\u001b[38;5;241m.\u001b[39mget(\u001b[38;5;124m\"\u001b[39m\u001b[38;5;124mnext_min_id\u001b[39m\u001b[38;5;124m\"\u001b[39m)\n\u001b[0;32m     44\u001b[0m ):\n",
      "File \u001b[1;32m~\\AppData\\Local\\Programs\\Python\\Python310\\lib\\site-packages\\instagrapi\\mixins\\private.py:542\u001b[0m, in \u001b[0;36mPrivateRequestMixin.private_request\u001b[1;34m(self, endpoint, data, params, login, with_signature, headers, extra_sig, domain)\u001b[0m\n\u001b[0;32m    540\u001b[0m     \u001b[38;5;28mself\u001b[39m\u001b[38;5;241m.\u001b[39mchallenge_resolve(\u001b[38;5;28mself\u001b[39m\u001b[38;5;241m.\u001b[39mlast_json)\n\u001b[0;32m    541\u001b[0m \u001b[38;5;28;01melse\u001b[39;00m:\n\u001b[1;32m--> 542\u001b[0m     \u001b[38;5;28;01mraise\u001b[39;00m e\n\u001b[0;32m    543\u001b[0m \u001b[38;5;28;01mif\u001b[39;00m login \u001b[38;5;129;01mand\u001b[39;00m \u001b[38;5;28mself\u001b[39m\u001b[38;5;241m.\u001b[39muser_id:\n\u001b[0;32m    544\u001b[0m     \u001b[38;5;66;03m# After challenge resolve return last_json\u001b[39;00m\n\u001b[0;32m    545\u001b[0m     \u001b[38;5;28;01mreturn\u001b[39;00m \u001b[38;5;28mself\u001b[39m\u001b[38;5;241m.\u001b[39mlast_json\n",
      "File \u001b[1;32m~\\AppData\\Local\\Programs\\Python\\Python310\\lib\\site-packages\\instagrapi\\mixins\\private.py:527\u001b[0m, in \u001b[0;36mPrivateRequestMixin.private_request\u001b[1;34m(self, endpoint, data, params, login, with_signature, headers, extra_sig, domain)\u001b[0m\n\u001b[0;32m    525\u001b[0m         random_delay(delay_range\u001b[38;5;241m=\u001b[39m\u001b[38;5;28mself\u001b[39m\u001b[38;5;241m.\u001b[39mdelay_range)\n\u001b[0;32m    526\u001b[0m     \u001b[38;5;28mself\u001b[39m\u001b[38;5;241m.\u001b[39mprivate_requests_count \u001b[38;5;241m+\u001b[39m\u001b[38;5;241m=\u001b[39m \u001b[38;5;241m1\u001b[39m\n\u001b[1;32m--> 527\u001b[0m     \u001b[38;5;28mself\u001b[39m\u001b[38;5;241m.\u001b[39m_send_private_request(endpoint, \u001b[38;5;241m*\u001b[39m\u001b[38;5;241m*\u001b[39mkwargs)\n\u001b[0;32m    528\u001b[0m \u001b[38;5;28;01mexcept\u001b[39;00m ClientRequestTimeout:\n\u001b[0;32m    529\u001b[0m     \u001b[38;5;28mself\u001b[39m\u001b[38;5;241m.\u001b[39mlogger\u001b[38;5;241m.\u001b[39minfo(\n\u001b[0;32m    530\u001b[0m         \u001b[38;5;124m\"\u001b[39m\u001b[38;5;124mWait 60 seconds and try one more time (ClientRequestTimeout)\u001b[39m\u001b[38;5;124m\"\u001b[39m\n\u001b[0;32m    531\u001b[0m     )\n",
      "File \u001b[1;32m~\\AppData\\Local\\Programs\\Python\\Python310\\lib\\site-packages\\instagrapi\\mixins\\private.py:383\u001b[0m, in \u001b[0;36mPrivateRequestMixin._send_private_request\u001b[1;34m(self, endpoint, data, params, login, with_signature, headers, extra_sig, domain)\u001b[0m\n\u001b[0;32m    381\u001b[0m message \u001b[38;5;241m=\u001b[39m last_json\u001b[38;5;241m.\u001b[39mget(\u001b[38;5;124m\"\u001b[39m\u001b[38;5;124mmessage\u001b[39m\u001b[38;5;124m\"\u001b[39m, \u001b[38;5;124m\"\u001b[39m\u001b[38;5;124m\"\u001b[39m)\n\u001b[0;32m    382\u001b[0m \u001b[38;5;28;01mif\u001b[39;00m \u001b[38;5;124m\"\u001b[39m\u001b[38;5;124mPlease wait a few minutes\u001b[39m\u001b[38;5;124m\"\u001b[39m \u001b[38;5;129;01min\u001b[39;00m message:\n\u001b[1;32m--> 383\u001b[0m     \u001b[38;5;28;01mraise\u001b[39;00m PleaseWaitFewMinutes(e, response\u001b[38;5;241m=\u001b[39me\u001b[38;5;241m.\u001b[39mresponse, \u001b[38;5;241m*\u001b[39m\u001b[38;5;241m*\u001b[39mlast_json)\n\u001b[0;32m    384\u001b[0m \u001b[38;5;28;01mif\u001b[39;00m e\u001b[38;5;241m.\u001b[39mresponse\u001b[38;5;241m.\u001b[39mstatus_code \u001b[38;5;241m==\u001b[39m \u001b[38;5;241m403\u001b[39m:\n\u001b[0;32m    385\u001b[0m     \u001b[38;5;28;01mif\u001b[39;00m message \u001b[38;5;241m==\u001b[39m \u001b[38;5;124m\"\u001b[39m\u001b[38;5;124mlogin_required\u001b[39m\u001b[38;5;124m\"\u001b[39m:\n",
      "\u001b[1;31mPleaseWaitFewMinutes\u001b[0m: Please wait a few minutes before you try again."
     ]
    }
   ],
   "source": [
    "com = cl.media_comments(media,amount=0)"
   ]
  },
  {
   "cell_type": "code",
   "execution_count": 6,
   "id": "69365ff4-9fee-46e6-885e-2d5b9d63cce9",
   "metadata": {},
   "outputs": [
    {
     "ename": "NameError",
     "evalue": "name 'com' is not defined",
     "output_type": "error",
     "traceback": [
      "\u001b[1;31m---------------------------------------------------------------------------\u001b[0m",
      "\u001b[1;31mNameError\u001b[0m                                 Traceback (most recent call last)",
      "Input \u001b[1;32mIn [6]\u001b[0m, in \u001b[0;36m<cell line: 2>\u001b[1;34m()\u001b[0m\n\u001b[0;32m      1\u001b[0m comment_arr \u001b[38;5;241m=\u001b[39m []\n\u001b[1;32m----> 2\u001b[0m \u001b[38;5;28;01mfor\u001b[39;00m c \u001b[38;5;129;01min\u001b[39;00m \u001b[43mcom\u001b[49m:\n\u001b[0;32m      3\u001b[0m     comment_arr\u001b[38;5;241m.\u001b[39mappend(c\u001b[38;5;241m.\u001b[39mtext)\n",
      "\u001b[1;31mNameError\u001b[0m: name 'com' is not defined"
     ]
    }
   ],
   "source": [
    "comment_arr = []\n",
    "for c in com:\n",
    "    comment_arr.append(c.text)\n",
    "    # print(c.text)"
   ]
  },
  {
   "cell_type": "code",
   "execution_count": 19,
   "id": "0be092e3-9c49-4942-ad83-60dd2514ec11",
   "metadata": {},
   "outputs": [
    {
     "data": {
      "text/html": [
       "<div>\n",
       "<style scoped>\n",
       "    .dataframe tbody tr th:only-of-type {\n",
       "        vertical-align: middle;\n",
       "    }\n",
       "\n",
       "    .dataframe tbody tr th {\n",
       "        vertical-align: top;\n",
       "    }\n",
       "\n",
       "    .dataframe thead th {\n",
       "        text-align: right;\n",
       "    }\n",
       "</style>\n",
       "<table border=\"1\" class=\"dataframe\">\n",
       "  <thead>\n",
       "    <tr style=\"text-align: right;\">\n",
       "      <th></th>\n",
       "      <th>text</th>\n",
       "    </tr>\n",
       "  </thead>\n",
       "  <tbody>\n",
       "    <tr>\n",
       "      <th>0</th>\n",
       "      <td>kak kalau dibagian surat rekom, petingginya ga...</td>\n",
       "    </tr>\n",
       "    <tr>\n",
       "      <th>1</th>\n",
       "      <td>@holyjune00 aku lupa tapi KM 5 yang keterima g...</td>\n",
       "    </tr>\n",
       "    <tr>\n",
       "      <th>2</th>\n",
       "      <td>@delviputriii12_ ga apa apa</td>\n",
       "    </tr>\n",
       "    <tr>\n",
       "      <th>3</th>\n",
       "      <td>@rama_aryo saya kemarin isi di Yogyakarta sela...</td>\n",
       "    </tr>\n",
       "    <tr>\n",
       "      <th>4</th>\n",
       "      <td>Kak Giman nih kalau lupa correct tidak sedang ...</td>\n",
       "    </tr>\n",
       "    <tr>\n",
       "      <th>...</th>\n",
       "      <td>...</td>\n",
       "    </tr>\n",
       "    <tr>\n",
       "      <th>2023</th>\n",
       "      <td>BBH owh BBH</td>\n",
       "    </tr>\n",
       "    <tr>\n",
       "      <th>2024</th>\n",
       "      <td>Awal Mei keluarnya😢</td>\n",
       "    </tr>\n",
       "    <tr>\n",
       "      <th>2025</th>\n",
       "      <td>🤍🕊️</td>\n",
       "    </tr>\n",
       "    <tr>\n",
       "      <th>2026</th>\n",
       "      <td>makasih min, sekarang bbhnya mana😍</td>\n",
       "    </tr>\n",
       "    <tr>\n",
       "      <th>2027</th>\n",
       "      <td>❤️</td>\n",
       "    </tr>\n",
       "  </tbody>\n",
       "</table>\n",
       "<p>2028 rows × 1 columns</p>\n",
       "</div>"
      ],
      "text/plain": [
       "                                                   text\n",
       "0     kak kalau dibagian surat rekom, petingginya ga...\n",
       "1     @holyjune00 aku lupa tapi KM 5 yang keterima g...\n",
       "2                           @delviputriii12_ ga apa apa\n",
       "3     @rama_aryo saya kemarin isi di Yogyakarta sela...\n",
       "4     Kak Giman nih kalau lupa correct tidak sedang ...\n",
       "...                                                 ...\n",
       "2023                                        BBH owh BBH\n",
       "2024                                Awal Mei keluarnya😢\n",
       "2025                                                🤍🕊️\n",
       "2026                 makasih min, sekarang bbhnya mana😍\n",
       "2027                                                 ❤️\n",
       "\n",
       "[2028 rows x 1 columns]"
      ]
     },
     "execution_count": 19,
     "metadata": {},
     "output_type": "execute_result"
    }
   ],
   "source": [
    "df = pd.DataFrame({'comment':comment_arr})"
   ]
  },
  {
   "cell_type": "markdown",
   "id": "f241a79e-b707-4fe1-b41d-43100b4b993c",
   "metadata": {},
   "source": [
    "proses tersebut dilakukan berulang sampe mendapatkan data dengan jumlah yang dibutuhkan, setelah jumlah data sudah mencapai target maka data tersebut disimpan dengan melakukan export data"
   ]
  },
  {
   "cell_type": "code",
   "execution_count": 1,
   "id": "f28b3edd-1acf-425d-b9d2-e656ff56ea8c",
   "metadata": {},
   "outputs": [],
   "source": [
    "# df.to_csv('data_crawling.csv')"
   ]
  }
 ],
 "metadata": {
  "kernelspec": {
   "display_name": "Python 3 (ipykernel)",
   "language": "python",
   "name": "python3"
  },
  "language_info": {
   "codemirror_mode": {
    "name": "ipython",
    "version": 3
   },
   "file_extension": ".py",
   "mimetype": "text/x-python",
   "name": "python",
   "nbconvert_exporter": "python",
   "pygments_lexer": "ipython3",
   "version": "3.10.4"
  }
 },
 "nbformat": 4,
 "nbformat_minor": 5
}
